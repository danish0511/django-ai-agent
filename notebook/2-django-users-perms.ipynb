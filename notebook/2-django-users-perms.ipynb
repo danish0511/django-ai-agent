{
 "cells": [
  {
   "cell_type": "code",
   "execution_count": 1,
   "id": "5b9159d1",
   "metadata": {},
   "outputs": [
    {
     "name": "stdout",
     "output_type": "stream",
     "text": [
      "Requirement already satisfied: django in e:\\clones\\django-ai-agent\\venv\\lib\\site-packages (5.2.3)\n",
      "Requirement already satisfied: asgiref>=3.8.1 in e:\\clones\\django-ai-agent\\venv\\lib\\site-packages (from django) (3.8.1)\n",
      "Requirement already satisfied: sqlparse>=0.3.1 in e:\\clones\\django-ai-agent\\venv\\lib\\site-packages (from django) (0.5.3)\n",
      "Requirement already satisfied: tzdata in e:\\clones\\django-ai-agent\\venv\\lib\\site-packages (from django) (2025.2)\n"
     ]
    }
   ],
   "source": [
    "!pip install django"
   ]
  },
  {
   "cell_type": "code",
   "execution_count": 1,
   "id": "5aa9fd3a",
   "metadata": {},
   "outputs": [],
   "source": [
    "import setup\n",
    "setup.init()"
   ]
  },
  {
   "cell_type": "code",
   "execution_count": 13,
   "id": "30b92d75",
   "metadata": {},
   "outputs": [
    {
     "data": {
      "text/plain": [
       "<QuerySet [<User: dsdd>, <User: staff>]>"
      ]
     },
     "execution_count": 13,
     "metadata": {},
     "output_type": "execute_result"
    }
   ],
   "source": [
    "from django.contrib.auth import get_user_model\n",
    "\n",
    "User = get_user_model()\n",
    "\n",
    "User.objects.all()"
   ]
  },
  {
   "cell_type": "code",
   "execution_count": null,
   "id": "6e5ebe56",
   "metadata": {},
   "outputs": [
    {
     "data": {
      "text/plain": [
       "<User: john_doe>"
      ]
     },
     "execution_count": 14,
     "metadata": {},
     "output_type": "execute_result"
    }
   ],
   "source": [
    "user_obj = User.objects.create(\n",
    "    username=\"john_doe\"\n",
    ")\n",
    "\n",
    "user_obj"
   ]
  },
  {
   "cell_type": "code",
   "execution_count": null,
   "id": "12c04fb6",
   "metadata": {},
   "outputs": [
    {
     "data": {
      "text/plain": [
       "True"
      ]
     },
     "execution_count": 19,
     "metadata": {},
     "output_type": "execute_result"
    }
   ],
   "source": [
    "user_obj = User.objects.get(\n",
    "    username=\"john_doe\"\n",
    ")\n",
    "\n",
    "user_obj.is_staff = True # can login to django admin or not\n",
    "user_obj.set_password(\"abc123\")\n",
    "\n",
    "user_obj.save()\n",
    "user_obj.is_staff"
   ]
  },
  {
   "cell_type": "code",
   "execution_count": 21,
   "id": "4cd0e307",
   "metadata": {},
   "outputs": [
    {
     "data": {
      "text/plain": [
       "'pbkdf2_sha256$1000000$v7tjV5ADWVHK8EIu14vjMS$FpFHHtMJRQkFNngQhraBywelThrAkaOY6U505Izo92U='"
      ]
     },
     "execution_count": 21,
     "metadata": {},
     "output_type": "execute_result"
    }
   ],
   "source": [
    "user_obj.password"
   ]
  },
  {
   "cell_type": "code",
   "execution_count": 15,
   "id": "e51d36e9",
   "metadata": {},
   "outputs": [
    {
     "data": {
      "text/plain": [
       "<User: john_doe>"
      ]
     },
     "execution_count": 15,
     "metadata": {},
     "output_type": "execute_result"
    }
   ],
   "source": [
    "user_obj = User.objects.last()\n",
    "user_obj"
   ]
  },
  {
   "cell_type": "code",
   "execution_count": 5,
   "id": "a065ef82",
   "metadata": {},
   "outputs": [
    {
     "data": {
      "text/plain": [
       "<Document: Hello world>"
      ]
     },
     "execution_count": 5,
     "metadata": {},
     "output_type": "execute_result"
    }
   ],
   "source": [
    "from documents.models import Document\n",
    "\n",
    "doc_obj = Document(\n",
    "    owner=user_obj,\n",
    "    title=\"Hello world\"\n",
    ")\n",
    "\n",
    "doc_obj"
   ]
  },
  {
   "cell_type": "code",
   "execution_count": 6,
   "id": "2f9e34fd",
   "metadata": {},
   "outputs": [],
   "source": [
    "doc_obj.save()"
   ]
  },
  {
   "cell_type": "code",
   "execution_count": 7,
   "id": "467194fa",
   "metadata": {},
   "outputs": [
    {
     "data": {
      "text/plain": [
       "<Document: Hello world>"
      ]
     },
     "execution_count": 7,
     "metadata": {},
     "output_type": "execute_result"
    }
   ],
   "source": [
    "doc_obj"
   ]
  },
  {
   "cell_type": "code",
   "execution_count": 10,
   "id": "351bbd7b",
   "metadata": {},
   "outputs": [
    {
     "data": {
      "text/plain": [
       "<Document: Title>"
      ]
     },
     "execution_count": 10,
     "metadata": {},
     "output_type": "execute_result"
    }
   ],
   "source": [
    "Document.objects.create(owner=user_obj)"
   ]
  },
  {
   "cell_type": "code",
   "execution_count": null,
   "id": "add24771",
   "metadata": {},
   "outputs": [],
   "source": []
  }
 ],
 "metadata": {
  "kernelspec": {
   "display_name": "Python 3",
   "language": "python",
   "name": "python3"
  },
  "language_info": {
   "codemirror_mode": {
    "name": "ipython",
    "version": 3
   },
   "file_extension": ".py",
   "mimetype": "text/x-python",
   "name": "python",
   "nbconvert_exporter": "python",
   "pygments_lexer": "ipython3",
   "version": "3.13.2"
  }
 },
 "nbformat": 4,
 "nbformat_minor": 5
}
