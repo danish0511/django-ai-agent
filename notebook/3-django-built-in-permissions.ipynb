{
 "cells": [
  {
   "cell_type": "code",
   "execution_count": 2,
   "id": "9b615cff",
   "metadata": {},
   "outputs": [],
   "source": [
    "import setup\n",
    "setup.init()"
   ]
  },
  {
   "cell_type": "code",
   "execution_count": 3,
   "id": "cab9e73d",
   "metadata": {},
   "outputs": [
    {
     "data": {
      "text/plain": [
       "<QuerySet [<User: dsdd>, <User: staff>, <User: john_doe>]>"
      ]
     },
     "execution_count": 3,
     "metadata": {},
     "output_type": "execute_result"
    }
   ],
   "source": [
    "from django.contrib.auth import get_user_model\n",
    "\n",
    "User = get_user_model()\n",
    "\n",
    "User.objects.all()"
   ]
  },
  {
   "cell_type": "code",
   "execution_count": 7,
   "id": "b46dda7f",
   "metadata": {},
   "outputs": [
    {
     "data": {
      "text/plain": [
       "<User: dsdd>"
      ]
     },
     "execution_count": 7,
     "metadata": {},
     "output_type": "execute_result"
    }
   ],
   "source": [
    "# superuser = admin user\n",
    "# python manage.py createsuperuser\n",
    "# User.objects.create_superuser()\n",
    "\n",
    "super_u = User.objects.filter(is_superuser=True).first()\n",
    "super_u"
   ]
  },
  {
   "cell_type": "code",
   "execution_count": 8,
   "id": "ac0c7270",
   "metadata": {},
   "outputs": [
    {
     "data": {
      "text/plain": [
       "<QuerySet []>"
      ]
     },
     "execution_count": 8,
     "metadata": {},
     "output_type": "execute_result"
    }
   ],
   "source": [
    "super_u.user_permissions.all()"
   ]
  },
  {
   "cell_type": "code",
   "execution_count": 11,
   "id": "a8f2e37d",
   "metadata": {},
   "outputs": [
    {
     "data": {
      "text/plain": [
       "<User: john_doe>"
      ]
     },
     "execution_count": 11,
     "metadata": {},
     "output_type": "execute_result"
    }
   ],
   "source": [
    "staff_u = User.objects.filter(is_superuser=False).last()\n",
    "staff_u"
   ]
  },
  {
   "cell_type": "code",
   "execution_count": 12,
   "id": "3af2a01f",
   "metadata": {},
   "outputs": [
    {
     "data": {
      "text/plain": [
       "<QuerySet []>"
      ]
     },
     "execution_count": 12,
     "metadata": {},
     "output_type": "execute_result"
    }
   ],
   "source": [
    "staff_u.user_permissions.all()"
   ]
  },
  {
   "cell_type": "code",
   "execution_count": 16,
   "id": "68983060",
   "metadata": {},
   "outputs": [
    {
     "name": "stdout",
     "output_type": "stream",
     "text": [
      "add_logentry\n",
      "change_logentry\n",
      "delete_logentry\n",
      "view_logentry\n",
      "add_group\n",
      "change_group\n",
      "delete_group\n",
      "view_group\n",
      "add_permission\n",
      "change_permission\n",
      "delete_permission\n",
      "view_permission\n",
      "add_user\n",
      "change_user\n",
      "delete_user\n",
      "view_user\n",
      "add_contenttype\n",
      "change_contenttype\n",
      "delete_contenttype\n",
      "view_contenttype\n",
      "add_document\n",
      "change_document\n",
      "delete_document\n",
      "view_document\n",
      "add_session\n",
      "change_session\n",
      "delete_session\n",
      "view_session\n"
     ]
    }
   ],
   "source": [
    "from django.contrib.auth.models import Permission\n",
    "\n",
    "perms_qs = Permission.objects.all()\n",
    "for obj in perms_qs:\n",
    "    print(obj.codename)"
   ]
  },
  {
   "cell_type": "code",
   "execution_count": 18,
   "id": "47e0c9ba",
   "metadata": {},
   "outputs": [
    {
     "name": "stdout",
     "output_type": "stream",
     "text": [
      "view_logentry\n",
      "view_group\n",
      "view_permission\n",
      "view_user\n",
      "view_contenttype\n",
      "view_document\n",
      "view_session\n"
     ]
    }
   ],
   "source": [
    "perms_qs = Permission.objects.filter(codename__icontains='VIEW')\n",
    "for obj in perms_qs:\n",
    "    print(obj.codename)\n",
    "    staff_u.user_permissions.add(obj)"
   ]
  },
  {
   "cell_type": "code",
   "execution_count": 19,
   "id": "4408f7fc",
   "metadata": {},
   "outputs": [
    {
     "name": "stdout",
     "output_type": "stream",
     "text": [
      "view_logentry\n",
      "view_group\n",
      "view_permission\n",
      "view_user\n",
      "view_contenttype\n",
      "view_document\n",
      "view_session\n"
     ]
    }
   ],
   "source": [
    "perms_qs = Permission.objects.filter(codename__icontains='VIEW')\n",
    "for obj in perms_qs:\n",
    "    print(obj.codename)\n",
    "    staff_u.user_permissions.remove(obj)"
   ]
  },
  {
   "cell_type": "code",
   "execution_count": 20,
   "id": "0b2f28ce",
   "metadata": {},
   "outputs": [],
   "source": [
    "staff_u.user_permissions.set(perms_qs)"
   ]
  },
  {
   "cell_type": "code",
   "execution_count": 25,
   "id": "4c393963",
   "metadata": {},
   "outputs": [
    {
     "data": {
      "text/plain": [
       "<QuerySet [<Permission: Documents | document | Can add document>, <Permission: Documents | document | Can change document>, <Permission: Documents | document | Can delete document>, <Permission: Documents | document | Can view document>]>"
      ]
     },
     "execution_count": 25,
     "metadata": {},
     "output_type": "execute_result"
    }
   ],
   "source": [
    "docs_qs = Permission.objects.filter(codename__endswith='document')\n",
    "docs_qs"
   ]
  },
  {
   "cell_type": "code",
   "execution_count": 26,
   "id": "36e78abb",
   "metadata": {},
   "outputs": [
    {
     "data": {
      "text/plain": [
       "<QuerySet [<Permission: Administration | log entry | Can view log entry>, <Permission: Authentication and Authorization | group | Can view group>, <Permission: Authentication and Authorization | permission | Can view permission>, <Permission: Authentication and Authorization | user | Can view user>, <Permission: Content Types | content type | Can view content type>, <Permission: Documents | document | Can add document>, <Permission: Documents | document | Can change document>, <Permission: Documents | document | Can delete document>, <Permission: Documents | document | Can view document>, <Permission: Sessions | session | Can view session>]>"
      ]
     },
     "execution_count": 26,
     "metadata": {},
     "output_type": "execute_result"
    }
   ],
   "source": [
    "new_perms = docs_qs | perms_qs\n",
    "new_perms"
   ]
  },
  {
   "cell_type": "code",
   "execution_count": null,
   "id": "8a47889f",
   "metadata": {},
   "outputs": [],
   "source": [
    "staff_u.user_permissions.set(new_perms)"
   ]
  },
  {
   "cell_type": "code",
   "execution_count": 29,
   "id": "d6d19882",
   "metadata": {},
   "outputs": [],
   "source": [
    "new_perms = new_perms.exclude(codename__icontains='delete')"
   ]
  },
  {
   "cell_type": "code",
   "execution_count": 30,
   "id": "4ee32560",
   "metadata": {},
   "outputs": [],
   "source": [
    "staff_u.user_permissions.set(new_perms)"
   ]
  },
  {
   "cell_type": "code",
   "execution_count": null,
   "id": "06088537",
   "metadata": {},
   "outputs": [],
   "source": []
  }
 ],
 "metadata": {
  "kernelspec": {
   "display_name": "Python 3",
   "language": "python",
   "name": "python3"
  },
  "language_info": {
   "codemirror_mode": {
    "name": "ipython",
    "version": 3
   },
   "file_extension": ".py",
   "mimetype": "text/x-python",
   "name": "python",
   "nbconvert_exporter": "python",
   "pygments_lexer": "ipython3",
   "version": "3.13.2"
  }
 },
 "nbformat": 4,
 "nbformat_minor": 5
}
